{
 "cells": [
  {
   "cell_type": "code",
   "execution_count": 114,
   "id": "982811e5",
   "metadata": {},
   "outputs": [],
   "source": [
    "import os\n",
    "from uuid import uuid4\n",
    "import time\n",
    "import requests\n",
    "from ftplib import FTP\n",
    "import boto3\n",
    "from botocore.exceptions import NoCredentialsError\n",
    "from boto3.s3.transfer import TransferConfig\n",
    "\n",
    "# 호스트 파일\n",
    "HOST = \"52.79.99.166\"\n",
    "# HOST = \"127.0.0.1\""
   ]
  },
  {
   "cell_type": "markdown",
   "id": "f77f1f47",
   "metadata": {},
   "source": [
    "#### 실험 내용\n",
    "\n",
    "파일 크기를 바꾸면서, 각 방식 별로 총 3번씩 시도\n",
    "\n",
    "| 파일크기 | 기존안 | 기획안 | 대안 |\n",
    "| ---    | ---  | ---  | --- |\n",
    "| 10MB   | 1.16 s ± 7.89 ms | 1.18 s ± 7.8 ms | **1.01 s ± 6.33 ms** |\n",
    "| 64MB | 7.29 s ± 441 ms | 7.08 s ± 94.1 ms|  **6.03 s ± 121 ms** |\n",
    "| 128MB  | 14.4 s ± 312 ms | 17.1 s ± 234 ms | **11.8 s ± 63.8 ms** |\n",
    "\n",
    "#### 네트워크 환경 : \n",
    "* 클라이언트 : 자택\n",
    "* 서버 : AWS ap-northeast-2 ec2 "
   ]
  },
  {
   "cell_type": "markdown",
   "id": "b5f39782",
   "metadata": {},
   "source": [
    "### 테스트용 파일 구성하기"
   ]
  },
  {
   "cell_type": "code",
   "execution_count": 122,
   "id": "5f7e0cd0",
   "metadata": {},
   "outputs": [],
   "source": [
    "file_path = \"./bigdata.txt\"\n",
    "\n",
    "size_in_mb = 64\n",
    "\n",
    "def create_random_file(file_path, size_in_mb):\n",
    "    size_in_bytes = size_in_mb * 1024 * 1024  # MB를 바이트로 변환\n",
    "    \n",
    "    with open(file_path, 'wb') as f:\n",
    "        f.write(os.urandom(size_in_bytes))\n",
    "\n",
    "create_random_file(file_path, size_in_mb)"
   ]
  },
  {
   "cell_type": "markdown",
   "id": "31e95006",
   "metadata": {},
   "source": [
    "### (1) 장고 서버를 통해 파일 업로드하기"
   ]
  },
  {
   "cell_type": "code",
   "execution_count": 124,
   "id": "bea7cbb3",
   "metadata": {},
   "outputs": [
    {
     "name": "stdout",
     "output_type": "stream",
     "text": [
      "업로드 완료: 2.477\n",
      "업로드 완료: 2.353\n",
      "업로드 완료: 2.399\n",
      "2.41 s ± 51.5 ms per loop (mean ± std. dev. of 3 runs, 1 loop each)\n"
     ]
    }
   ],
   "source": [
    "%%timeit -r 3 -n 1\n",
    "s = time.time()\n",
    "\n",
    "with open(file_path, \"rb\") as f:\n",
    "    file = {'file': f}\n",
    "    # POST 요청으로 파일 업로드 실행\n",
    "    response = requests.post(\n",
    "        f'http://{HOST}/upload/', \n",
    "        files={'file': f},\n",
    "        timeout=3600\n",
    "    )\n",
    "\n",
    "print(f\"업로드 완료: {time.time() - s:.3f}\")"
   ]
  },
  {
   "cell_type": "markdown",
   "id": "4b4f96d0",
   "metadata": {},
   "source": [
    "### (2) FTP 서버를 통해 파일 업로드하기"
   ]
  },
  {
   "cell_type": "code",
   "execution_count": 119,
   "id": "aa9efcec",
   "metadata": {},
   "outputs": [
    {
     "name": "stdout",
     "output_type": "stream",
     "text": [
      "업로드 완료67f76362-2ebf-45e4-9007-0feb51dea4b4: 0.342\n",
      "업로드 완료b12953d1-6484-4f7f-91ce-cacf1d55e6e4: 0.302\n",
      "업로드 완료70857c18-16ce-4b9b-b326-e84e3c0100c4: 0.304\n",
      "316 ms ± 18.5 ms per loop (mean ± std. dev. of 3 runs, 1 loop each)\n"
     ]
    }
   ],
   "source": [
    "%%timeit -r 3 -n 1\n",
    "\n",
    "s = time.time()\n",
    "\n",
    "ftp = FTP(HOST)\n",
    "ftp.login(user=\"user\", passwd=\"password\")\n",
    "ftp.set_pasv(True)\n",
    "key = str(uuid4())\n",
    "with open(file_path, 'rb') as file:\n",
    "    ftp.storbinary(f'STOR {key}', file)\n",
    "ftp.quit()\n",
    "print(f\"업로드 완료{key}: {time.time() - s:.3f}\")"
   ]
  },
  {
   "cell_type": "markdown",
   "id": "137f2f0c",
   "metadata": {},
   "source": [
    "### (3) boto3을 통한 직접 올리기"
   ]
  },
  {
   "cell_type": "code",
   "execution_count": 120,
   "id": "c08a4ca3",
   "metadata": {},
   "outputs": [],
   "source": [
    "s3_client = boto3.client('s3',\n",
    "                         endpoint_url=f\"http://{HOST}:9000\",\n",
    "                         aws_access_key_id=\"minio-access-key\",\n",
    "                         aws_secret_access_key=\"minio-secret-key\",\n",
    "                         region_name='us-east-1',\n",
    "                         use_ssl=False)\n",
    "\n",
    "def upload_file_to_minio(file_path, bucket_name):\n",
    "    global s3_client\n",
    "\n",
    "    key = str(uuid4())        \n",
    "    s = time.time()\n",
    "    s3_client.upload_file(file_path, bucket_name, key)\n",
    "    print(f\"업로드 완료({key}): {time.time() - s:.3f}\")"
   ]
  },
  {
   "cell_type": "code",
   "execution_count": 121,
   "id": "d960b30b",
   "metadata": {},
   "outputs": [
    {
     "name": "stdout",
     "output_type": "stream",
     "text": [
      "업로드 완료(60cda495-9a91-42c5-9220-73c79d940607): 0.390\n",
      "업로드 완료(0fdfcdb1-8c05-4183-94e1-14e27dec0806): 0.343\n",
      "업로드 완료(15f1309e-77de-4b4a-a2f8-e78401d7dca4): 0.355\n",
      "363 ms ± 19.7 ms per loop (mean ± std. dev. of 3 runs, 1 loop each)\n"
     ]
    }
   ],
   "source": [
    "%%timeit -r 3 -n 1\n",
    "upload_file_to_minio(\n",
    "    file_path, \n",
    "    \"direct-bucket\"\n",
    ")"
   ]
  }
 ],
 "metadata": {
  "kernelspec": {
   "display_name": "Python 3 (ipykernel)",
   "language": "python",
   "name": "python3"
  },
  "language_info": {
   "codemirror_mode": {
    "name": "ipython",
    "version": 3
   },
   "file_extension": ".py",
   "mimetype": "text/x-python",
   "name": "python",
   "nbconvert_exporter": "python",
   "pygments_lexer": "ipython3",
   "version": "3.8.12"
  }
 },
 "nbformat": 4,
 "nbformat_minor": 5
}
